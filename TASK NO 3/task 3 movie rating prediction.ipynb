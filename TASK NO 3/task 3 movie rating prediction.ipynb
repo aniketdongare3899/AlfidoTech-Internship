{
 "cells": [
  {
   "cell_type": "markdown",
   "id": "d993d4a1",
   "metadata": {},
   "source": [
    "#### ALFIDO TECH INTERNSHIP TASK NO 3 :"
   ]
  },
  {
   "cell_type": "markdown",
   "id": "93e51995",
   "metadata": {},
   "source": [
    "# MOVIE RATING PREDICTION"
   ]
  },
  {
   "cell_type": "markdown",
   "id": "fecb5f19",
   "metadata": {},
   "source": [
    "#### PROBLEM STATEMENT\n",
    "Movie Rating Prediction is a project where you aim to build a recommendation system that predicts how a user would rate a movie based on their historical ratings and the ratings of similar users. You can use techniques like collaborative filtering or content-based recommendation to accomplish this."
   ]
  },
  {
   "cell_type": "markdown",
   "id": "9e6be449",
   "metadata": {},
   "source": [
    "### ABOUT DATASET\n",
    "Other\n",
    "movies.dat(171.31 kB)\n",
    "About this file\n",
    "RATINGS FILE DESCRIPTION\n",
    "All ratings are contained in the file \"ratings.dat\" and are in the\n",
    "following format:\n",
    "\n",
    "UserID::MovieID::Rating::Timestamp\n",
    "\n",
    "UserIDs range between 1 and 6040\n",
    "MovieIDs range between 1 and 3952\n",
    "Ratings are made on a 5-star scale (whole-star ratings only)\n",
    "Timestamp is represented in seconds since the epoch as returned by time(2)\n",
    "Each user has at least 20 ratings\n",
    "USERS FILE DESCRIPTION\n",
    "User information is in the file \"users.dat\" and is in the following\n",
    "format:\n",
    "\n",
    "UserID::Gender::Age::Occupation::Zip-code\n",
    "\n",
    "All demographic information is provided voluntarily by the users and is\n",
    "not checked for accuracy. Only users who have provided some demographic\n",
    "information are included in this data set.\n",
    "\n",
    "Gender is denoted by a \"M\" for male and \"F\" for female\n",
    "\n",
    "Age is chosen from the following ranges:\n",
    "\n",
    "1: \"Under 18\"\n",
    "18: \"18-24\"\n",
    "25: \"25-34\"\n",
    "35: \"35-44\"\n",
    "45: \"45-49\"\n",
    "50: \"50-55\"\n",
    "56: \"56+\"\n",
    "Occupation is chosen from the following choices:\n",
    "\n",
    "0: \"other\" or not specified\n",
    "1: \"academic/educator\"\n",
    "2: \"artist\"\n",
    "3: \"clerical/admin\"\n",
    "4: \"college/grad student\"\n",
    "5: \"customer service\"\n",
    "6: \"doctor/health care\"\n",
    "7: \"executive/managerial\"\n",
    "8: \"farmer\"\n",
    "9: \"homemaker\"\n",
    "10: \"K-12 student\"\n",
    "11: \"lawyer\"\n",
    "12: \"programmer\"\n",
    "13: \"retired\"\n",
    "14: \"sales/marketing\"\n",
    "15: \"scientist\"\n",
    "16: \"self-employed\"\n",
    "17: \"technician/engineer\"\n",
    "18: \"tradesman/craftsman\"\n",
    "19: \"unemployed\"\n",
    "20: \"writer\"\n",
    "MOVIES FILE DESCRIPTION\n",
    "Movie information is in the file \"movies.dat\" and is in the following\n",
    "format:\n",
    "\n",
    "MovieID::Title::Genres\n",
    "\n",
    "Titles are identical to titles provided by the IMDB (including\n",
    "year of release)\n",
    "\n",
    "Genres are pipe-separated and are selected from the following genres:\n",
    "\n",
    "Action\n",
    "Adventure\n",
    "Animation\n",
    "Children's\n",
    "Comedy\n",
    "Crime\n",
    "Documentary\n",
    "Drama\n",
    "Fantasy\n",
    "Film-Noir\n",
    "Horror\n",
    "Musical\n",
    "Mystery\n",
    "Romance\n",
    "Sci-Fi\n",
    "Thriller\n",
    "War\n",
    "Western\n",
    "Some MovieIDs do not correspond to a movie due to accidental duplicate\n",
    "entries and/or test entries\n",
    "\n",
    "Movies are mostly entered by hand, so errors and inconsistencies may exist"
   ]
  },
  {
   "cell_type": "markdown",
   "id": "bbc0e356",
   "metadata": {},
   "source": [
    "#### IMPORTING THE IMPORTANT LIBRARIES"
   ]
  },
  {
   "cell_type": "code",
   "execution_count": 1,
   "id": "2cc5cb3c",
   "metadata": {},
   "outputs": [],
   "source": [
    "import pandas as pd\n",
    "import numpy as np\n",
    "import matplotlib.pyplot as plt\n",
    "import seaborn as sns\n",
    "import warnings\n",
    "warnings.filterwarnings('ignore')"
   ]
  },
  {
   "cell_type": "code",
   "execution_count": 2,
   "id": "f76835cf",
   "metadata": {},
   "outputs": [
    {
     "data": {
      "text/html": [
       "<div>\n",
       "<style scoped>\n",
       "    .dataframe tbody tr th:only-of-type {\n",
       "        vertical-align: middle;\n",
       "    }\n",
       "\n",
       "    .dataframe tbody tr th {\n",
       "        vertical-align: top;\n",
       "    }\n",
       "\n",
       "    .dataframe thead th {\n",
       "        text-align: right;\n",
       "    }\n",
       "</style>\n",
       "<table border=\"1\" class=\"dataframe\">\n",
       "  <thead>\n",
       "    <tr style=\"text-align: right;\">\n",
       "      <th></th>\n",
       "      <th>MovieIDs</th>\n",
       "      <th>MovieName</th>\n",
       "      <th>Category</th>\n",
       "    </tr>\n",
       "  </thead>\n",
       "  <tbody>\n",
       "    <tr>\n",
       "      <th>0</th>\n",
       "      <td>2</td>\n",
       "      <td>Jumanji (1995)</td>\n",
       "      <td>Adventure|Children's|Fantasy</td>\n",
       "    </tr>\n",
       "    <tr>\n",
       "      <th>1</th>\n",
       "      <td>3</td>\n",
       "      <td>Grumpier Old Men (1995)</td>\n",
       "      <td>Comedy|Romance</td>\n",
       "    </tr>\n",
       "    <tr>\n",
       "      <th>2</th>\n",
       "      <td>4</td>\n",
       "      <td>Waiting to Exhale (1995)</td>\n",
       "      <td>Comedy|Drama</td>\n",
       "    </tr>\n",
       "    <tr>\n",
       "      <th>3</th>\n",
       "      <td>5</td>\n",
       "      <td>Father of the Bride Part II (1995)</td>\n",
       "      <td>Comedy</td>\n",
       "    </tr>\n",
       "    <tr>\n",
       "      <th>4</th>\n",
       "      <td>6</td>\n",
       "      <td>Heat (1995)</td>\n",
       "      <td>Action|Crime|Thriller</td>\n",
       "    </tr>\n",
       "  </tbody>\n",
       "</table>\n",
       "</div>"
      ],
      "text/plain": [
       "   MovieIDs                           MovieName                      Category\n",
       "0         2                      Jumanji (1995)  Adventure|Children's|Fantasy\n",
       "1         3             Grumpier Old Men (1995)                Comedy|Romance\n",
       "2         4            Waiting to Exhale (1995)                  Comedy|Drama\n",
       "3         5  Father of the Bride Part II (1995)                        Comedy\n",
       "4         6                         Heat (1995)         Action|Crime|Thriller"
      ]
     },
     "execution_count": 2,
     "metadata": {},
     "output_type": "execute_result"
    }
   ],
   "source": [
    "#Data acquisition of the MOVIE dataset\n",
    "df_movie=pd.read_csv('movies.dat', sep = '::', engine='python', encoding='latin1')\n",
    "df_movie.columns =['MovieIDs','MovieName','Category']\n",
    "df_movie.dropna(inplace=True)\n",
    "df_movie.head()"
   ]
  },
  {
   "cell_type": "code",
   "execution_count": 3,
   "id": "e2e21fa6",
   "metadata": {},
   "outputs": [
    {
     "data": {
      "text/plain": [
       "(3882, 3)"
      ]
     },
     "execution_count": 3,
     "metadata": {},
     "output_type": "execute_result"
    }
   ],
   "source": [
    "df_movie.shape"
   ]
  },
  {
   "cell_type": "code",
   "execution_count": 4,
   "id": "54aeb6cc",
   "metadata": {},
   "outputs": [
    {
     "data": {
      "text/html": [
       "<div>\n",
       "<style scoped>\n",
       "    .dataframe tbody tr th:only-of-type {\n",
       "        vertical-align: middle;\n",
       "    }\n",
       "\n",
       "    .dataframe tbody tr th {\n",
       "        vertical-align: top;\n",
       "    }\n",
       "\n",
       "    .dataframe thead th {\n",
       "        text-align: right;\n",
       "    }\n",
       "</style>\n",
       "<table border=\"1\" class=\"dataframe\">\n",
       "  <thead>\n",
       "    <tr style=\"text-align: right;\">\n",
       "      <th></th>\n",
       "      <th>ID</th>\n",
       "      <th>MovieID</th>\n",
       "      <th>Ratings</th>\n",
       "      <th>TimeStamp</th>\n",
       "    </tr>\n",
       "  </thead>\n",
       "  <tbody>\n",
       "    <tr>\n",
       "      <th>0</th>\n",
       "      <td>1</td>\n",
       "      <td>661</td>\n",
       "      <td>3</td>\n",
       "      <td>978302109</td>\n",
       "    </tr>\n",
       "    <tr>\n",
       "      <th>1</th>\n",
       "      <td>1</td>\n",
       "      <td>914</td>\n",
       "      <td>3</td>\n",
       "      <td>978301968</td>\n",
       "    </tr>\n",
       "    <tr>\n",
       "      <th>2</th>\n",
       "      <td>1</td>\n",
       "      <td>3408</td>\n",
       "      <td>4</td>\n",
       "      <td>978300275</td>\n",
       "    </tr>\n",
       "    <tr>\n",
       "      <th>3</th>\n",
       "      <td>1</td>\n",
       "      <td>2355</td>\n",
       "      <td>5</td>\n",
       "      <td>978824291</td>\n",
       "    </tr>\n",
       "    <tr>\n",
       "      <th>4</th>\n",
       "      <td>1</td>\n",
       "      <td>1197</td>\n",
       "      <td>3</td>\n",
       "      <td>978302268</td>\n",
       "    </tr>\n",
       "  </tbody>\n",
       "</table>\n",
       "</div>"
      ],
      "text/plain": [
       "   ID  MovieID  Ratings  TimeStamp\n",
       "0   1      661        3  978302109\n",
       "1   1      914        3  978301968\n",
       "2   1     3408        4  978300275\n",
       "3   1     2355        5  978824291\n",
       "4   1     1197        3  978302268"
      ]
     },
     "execution_count": 4,
     "metadata": {},
     "output_type": "execute_result"
    }
   ],
   "source": [
    "#Data acquisition of the rating dataset\n",
    "df_rating = pd.read_csv(\"ratings.dat\",sep='::', engine='python', encoding='latin1')\n",
    "df_rating.columns =['ID','MovieID','Ratings','TimeStamp']\n",
    "df_rating.dropna(inplace=True)\n",
    "df_rating.head()"
   ]
  },
  {
   "cell_type": "code",
   "execution_count": 5,
   "id": "119d18f7",
   "metadata": {},
   "outputs": [
    {
     "data": {
      "text/plain": [
       "(1000208, 4)"
      ]
     },
     "execution_count": 5,
     "metadata": {},
     "output_type": "execute_result"
    }
   ],
   "source": [
    "df_rating.shape"
   ]
  },
  {
   "cell_type": "code",
   "execution_count": 6,
   "id": "50efda16",
   "metadata": {},
   "outputs": [
    {
     "data": {
      "text/html": [
       "<div>\n",
       "<style scoped>\n",
       "    .dataframe tbody tr th:only-of-type {\n",
       "        vertical-align: middle;\n",
       "    }\n",
       "\n",
       "    .dataframe tbody tr th {\n",
       "        vertical-align: top;\n",
       "    }\n",
       "\n",
       "    .dataframe thead th {\n",
       "        text-align: right;\n",
       "    }\n",
       "</style>\n",
       "<table border=\"1\" class=\"dataframe\">\n",
       "  <thead>\n",
       "    <tr style=\"text-align: right;\">\n",
       "      <th></th>\n",
       "      <th>UserID</th>\n",
       "      <th>Gender</th>\n",
       "      <th>Age</th>\n",
       "      <th>Occupation</th>\n",
       "      <th>Zip-code</th>\n",
       "    </tr>\n",
       "  </thead>\n",
       "  <tbody>\n",
       "    <tr>\n",
       "      <th>0</th>\n",
       "      <td>2</td>\n",
       "      <td>M</td>\n",
       "      <td>56</td>\n",
       "      <td>16</td>\n",
       "      <td>70072</td>\n",
       "    </tr>\n",
       "    <tr>\n",
       "      <th>1</th>\n",
       "      <td>3</td>\n",
       "      <td>M</td>\n",
       "      <td>25</td>\n",
       "      <td>15</td>\n",
       "      <td>55117</td>\n",
       "    </tr>\n",
       "    <tr>\n",
       "      <th>2</th>\n",
       "      <td>4</td>\n",
       "      <td>M</td>\n",
       "      <td>45</td>\n",
       "      <td>7</td>\n",
       "      <td>02460</td>\n",
       "    </tr>\n",
       "    <tr>\n",
       "      <th>3</th>\n",
       "      <td>5</td>\n",
       "      <td>M</td>\n",
       "      <td>25</td>\n",
       "      <td>20</td>\n",
       "      <td>55455</td>\n",
       "    </tr>\n",
       "    <tr>\n",
       "      <th>4</th>\n",
       "      <td>6</td>\n",
       "      <td>F</td>\n",
       "      <td>50</td>\n",
       "      <td>9</td>\n",
       "      <td>55117</td>\n",
       "    </tr>\n",
       "  </tbody>\n",
       "</table>\n",
       "</div>"
      ],
      "text/plain": [
       "   UserID Gender  Age  Occupation Zip-code\n",
       "0       2      M   56          16    70072\n",
       "1       3      M   25          15    55117\n",
       "2       4      M   45           7    02460\n",
       "3       5      M   25          20    55455\n",
       "4       6      F   50           9    55117"
      ]
     },
     "execution_count": 6,
     "metadata": {},
     "output_type": "execute_result"
    }
   ],
   "source": [
    "#Data acquisition of the users dataset\n",
    "df_user = pd.read_csv(\"users.dat\",sep='::',engine='python', encoding='latin1')\n",
    "df_user.columns =['UserID','Gender','Age','Occupation','Zip-code']\n",
    "df_user.dropna(inplace=True)\n",
    "df_user.head()"
   ]
  },
  {
   "cell_type": "code",
   "execution_count": 7,
   "id": "041a9040",
   "metadata": {},
   "outputs": [
    {
     "data": {
      "text/plain": [
       "(6039, 5)"
      ]
     },
     "execution_count": 7,
     "metadata": {},
     "output_type": "execute_result"
    }
   ],
   "source": [
    "df_user.shape"
   ]
  },
  {
   "cell_type": "code",
   "execution_count": 8,
   "id": "26334e2e",
   "metadata": {},
   "outputs": [
    {
     "data": {
      "text/html": [
       "<div>\n",
       "<style scoped>\n",
       "    .dataframe tbody tr th:only-of-type {\n",
       "        vertical-align: middle;\n",
       "    }\n",
       "\n",
       "    .dataframe tbody tr th {\n",
       "        vertical-align: top;\n",
       "    }\n",
       "\n",
       "    .dataframe thead th {\n",
       "        text-align: right;\n",
       "    }\n",
       "</style>\n",
       "<table border=\"1\" class=\"dataframe\">\n",
       "  <thead>\n",
       "    <tr style=\"text-align: right;\">\n",
       "      <th></th>\n",
       "      <th>UserID</th>\n",
       "      <th>Gender</th>\n",
       "      <th>Age</th>\n",
       "      <th>Occupation</th>\n",
       "      <th>Zip-code</th>\n",
       "      <th>ID</th>\n",
       "      <th>MovieID</th>\n",
       "      <th>Ratings</th>\n",
       "      <th>TimeStamp</th>\n",
       "    </tr>\n",
       "  </thead>\n",
       "  <tbody>\n",
       "    <tr>\n",
       "      <th>0</th>\n",
       "      <td>2</td>\n",
       "      <td>M</td>\n",
       "      <td>56</td>\n",
       "      <td>16</td>\n",
       "      <td>70072</td>\n",
       "      <td>2</td>\n",
       "      <td>1357</td>\n",
       "      <td>5</td>\n",
       "      <td>978298709</td>\n",
       "    </tr>\n",
       "    <tr>\n",
       "      <th>1</th>\n",
       "      <td>2</td>\n",
       "      <td>M</td>\n",
       "      <td>56</td>\n",
       "      <td>16</td>\n",
       "      <td>70072</td>\n",
       "      <td>2</td>\n",
       "      <td>3068</td>\n",
       "      <td>4</td>\n",
       "      <td>978299000</td>\n",
       "    </tr>\n",
       "    <tr>\n",
       "      <th>2</th>\n",
       "      <td>2</td>\n",
       "      <td>M</td>\n",
       "      <td>56</td>\n",
       "      <td>16</td>\n",
       "      <td>70072</td>\n",
       "      <td>2</td>\n",
       "      <td>1537</td>\n",
       "      <td>4</td>\n",
       "      <td>978299620</td>\n",
       "    </tr>\n",
       "    <tr>\n",
       "      <th>3</th>\n",
       "      <td>2</td>\n",
       "      <td>M</td>\n",
       "      <td>56</td>\n",
       "      <td>16</td>\n",
       "      <td>70072</td>\n",
       "      <td>2</td>\n",
       "      <td>647</td>\n",
       "      <td>3</td>\n",
       "      <td>978299351</td>\n",
       "    </tr>\n",
       "    <tr>\n",
       "      <th>4</th>\n",
       "      <td>2</td>\n",
       "      <td>M</td>\n",
       "      <td>56</td>\n",
       "      <td>16</td>\n",
       "      <td>70072</td>\n",
       "      <td>2</td>\n",
       "      <td>2194</td>\n",
       "      <td>4</td>\n",
       "      <td>978299297</td>\n",
       "    </tr>\n",
       "  </tbody>\n",
       "</table>\n",
       "</div>"
      ],
      "text/plain": [
       "   UserID Gender  Age  Occupation Zip-code  ID  MovieID  Ratings  TimeStamp\n",
       "0       2      M   56          16    70072   2     1357        5  978298709\n",
       "1       2      M   56          16    70072   2     3068        4  978299000\n",
       "2       2      M   56          16    70072   2     1537        4  978299620\n",
       "3       2      M   56          16    70072   2      647        3  978299351\n",
       "4       2      M   56          16    70072   2     2194        4  978299297"
      ]
     },
     "execution_count": 8,
     "metadata": {},
     "output_type": "execute_result"
    }
   ],
   "source": [
    "# Merge User and Ratings data on 'MovieID'\n",
    "User_ratings = pd.merge(df_user, df_rating, left_on='UserID', right_on='ID')\n",
    "\n",
    "# Display the merged DataFrame\n",
    "User_ratings.head()"
   ]
  },
  {
   "cell_type": "code",
   "execution_count": 9,
   "id": "36f70acc",
   "metadata": {},
   "outputs": [
    {
     "data": {
      "text/html": [
       "<div>\n",
       "<style scoped>\n",
       "    .dataframe tbody tr th:only-of-type {\n",
       "        vertical-align: middle;\n",
       "    }\n",
       "\n",
       "    .dataframe tbody tr th {\n",
       "        vertical-align: top;\n",
       "    }\n",
       "\n",
       "    .dataframe thead th {\n",
       "        text-align: right;\n",
       "    }\n",
       "</style>\n",
       "<table border=\"1\" class=\"dataframe\">\n",
       "  <thead>\n",
       "    <tr style=\"text-align: right;\">\n",
       "      <th></th>\n",
       "      <th>UserID</th>\n",
       "      <th>Gender</th>\n",
       "      <th>Age</th>\n",
       "      <th>Occupation</th>\n",
       "      <th>Zip-code</th>\n",
       "      <th>ID</th>\n",
       "      <th>MovieID</th>\n",
       "      <th>Ratings</th>\n",
       "      <th>TimeStamp</th>\n",
       "      <th>MovieIDs</th>\n",
       "      <th>MovieName</th>\n",
       "      <th>Category</th>\n",
       "    </tr>\n",
       "  </thead>\n",
       "  <tbody>\n",
       "    <tr>\n",
       "      <th>0</th>\n",
       "      <td>2</td>\n",
       "      <td>M</td>\n",
       "      <td>56</td>\n",
       "      <td>16</td>\n",
       "      <td>70072</td>\n",
       "      <td>2</td>\n",
       "      <td>1357</td>\n",
       "      <td>5</td>\n",
       "      <td>978298709</td>\n",
       "      <td>1357</td>\n",
       "      <td>Shine (1996)</td>\n",
       "      <td>Drama|Romance</td>\n",
       "    </tr>\n",
       "    <tr>\n",
       "      <th>1</th>\n",
       "      <td>8</td>\n",
       "      <td>M</td>\n",
       "      <td>25</td>\n",
       "      <td>12</td>\n",
       "      <td>11413</td>\n",
       "      <td>8</td>\n",
       "      <td>1357</td>\n",
       "      <td>4</td>\n",
       "      <td>978230800</td>\n",
       "      <td>1357</td>\n",
       "      <td>Shine (1996)</td>\n",
       "      <td>Drama|Romance</td>\n",
       "    </tr>\n",
       "    <tr>\n",
       "      <th>2</th>\n",
       "      <td>10</td>\n",
       "      <td>F</td>\n",
       "      <td>35</td>\n",
       "      <td>1</td>\n",
       "      <td>95370</td>\n",
       "      <td>10</td>\n",
       "      <td>1357</td>\n",
       "      <td>5</td>\n",
       "      <td>978227625</td>\n",
       "      <td>1357</td>\n",
       "      <td>Shine (1996)</td>\n",
       "      <td>Drama|Romance</td>\n",
       "    </tr>\n",
       "    <tr>\n",
       "      <th>3</th>\n",
       "      <td>18</td>\n",
       "      <td>F</td>\n",
       "      <td>18</td>\n",
       "      <td>3</td>\n",
       "      <td>95825</td>\n",
       "      <td>18</td>\n",
       "      <td>1357</td>\n",
       "      <td>5</td>\n",
       "      <td>978156876</td>\n",
       "      <td>1357</td>\n",
       "      <td>Shine (1996)</td>\n",
       "      <td>Drama|Romance</td>\n",
       "    </tr>\n",
       "    <tr>\n",
       "      <th>4</th>\n",
       "      <td>33</td>\n",
       "      <td>M</td>\n",
       "      <td>45</td>\n",
       "      <td>3</td>\n",
       "      <td>55421</td>\n",
       "      <td>33</td>\n",
       "      <td>1357</td>\n",
       "      <td>4</td>\n",
       "      <td>978109488</td>\n",
       "      <td>1357</td>\n",
       "      <td>Shine (1996)</td>\n",
       "      <td>Drama|Romance</td>\n",
       "    </tr>\n",
       "  </tbody>\n",
       "</table>\n",
       "</div>"
      ],
      "text/plain": [
       "   UserID Gender  Age  Occupation Zip-code  ID  MovieID  Ratings  TimeStamp  \\\n",
       "0       2      M   56          16    70072   2     1357        5  978298709   \n",
       "1       8      M   25          12    11413   8     1357        4  978230800   \n",
       "2      10      F   35           1    95370  10     1357        5  978227625   \n",
       "3      18      F   18           3    95825  18     1357        5  978156876   \n",
       "4      33      M   45           3    55421  33     1357        4  978109488   \n",
       "\n",
       "   MovieIDs     MovieName       Category  \n",
       "0      1357  Shine (1996)  Drama|Romance  \n",
       "1      1357  Shine (1996)  Drama|Romance  \n",
       "2      1357  Shine (1996)  Drama|Romance  \n",
       "3      1357  Shine (1996)  Drama|Romance  \n",
       "4      1357  Shine (1996)  Drama|Romance  "
      ]
     },
     "execution_count": 9,
     "metadata": {},
     "output_type": "execute_result"
    }
   ],
   "source": [
    "df = pd.merge(User_ratings, df_movie, left_on='MovieID', right_on='MovieIDs')\n",
    "df.head()"
   ]
  },
  {
   "cell_type": "code",
   "execution_count": 10,
   "id": "e99c9eb7",
   "metadata": {},
   "outputs": [],
   "source": [
    "df = df.drop(['ID', 'MovieIDs'], axis= 1)"
   ]
  },
  {
   "cell_type": "code",
   "execution_count": 11,
   "id": "b64c040b",
   "metadata": {},
   "outputs": [
    {
     "data": {
      "text/html": [
       "<div>\n",
       "<style scoped>\n",
       "    .dataframe tbody tr th:only-of-type {\n",
       "        vertical-align: middle;\n",
       "    }\n",
       "\n",
       "    .dataframe tbody tr th {\n",
       "        vertical-align: top;\n",
       "    }\n",
       "\n",
       "    .dataframe thead th {\n",
       "        text-align: right;\n",
       "    }\n",
       "</style>\n",
       "<table border=\"1\" class=\"dataframe\">\n",
       "  <thead>\n",
       "    <tr style=\"text-align: right;\">\n",
       "      <th></th>\n",
       "      <th>UserID</th>\n",
       "      <th>Gender</th>\n",
       "      <th>Age</th>\n",
       "      <th>Occupation</th>\n",
       "      <th>Zip-code</th>\n",
       "      <th>MovieID</th>\n",
       "      <th>Ratings</th>\n",
       "      <th>TimeStamp</th>\n",
       "      <th>MovieName</th>\n",
       "      <th>Category</th>\n",
       "    </tr>\n",
       "  </thead>\n",
       "  <tbody>\n",
       "    <tr>\n",
       "      <th>0</th>\n",
       "      <td>2</td>\n",
       "      <td>M</td>\n",
       "      <td>56</td>\n",
       "      <td>16</td>\n",
       "      <td>70072</td>\n",
       "      <td>1357</td>\n",
       "      <td>5</td>\n",
       "      <td>978298709</td>\n",
       "      <td>Shine (1996)</td>\n",
       "      <td>Drama|Romance</td>\n",
       "    </tr>\n",
       "    <tr>\n",
       "      <th>1</th>\n",
       "      <td>8</td>\n",
       "      <td>M</td>\n",
       "      <td>25</td>\n",
       "      <td>12</td>\n",
       "      <td>11413</td>\n",
       "      <td>1357</td>\n",
       "      <td>4</td>\n",
       "      <td>978230800</td>\n",
       "      <td>Shine (1996)</td>\n",
       "      <td>Drama|Romance</td>\n",
       "    </tr>\n",
       "    <tr>\n",
       "      <th>2</th>\n",
       "      <td>10</td>\n",
       "      <td>F</td>\n",
       "      <td>35</td>\n",
       "      <td>1</td>\n",
       "      <td>95370</td>\n",
       "      <td>1357</td>\n",
       "      <td>5</td>\n",
       "      <td>978227625</td>\n",
       "      <td>Shine (1996)</td>\n",
       "      <td>Drama|Romance</td>\n",
       "    </tr>\n",
       "    <tr>\n",
       "      <th>3</th>\n",
       "      <td>18</td>\n",
       "      <td>F</td>\n",
       "      <td>18</td>\n",
       "      <td>3</td>\n",
       "      <td>95825</td>\n",
       "      <td>1357</td>\n",
       "      <td>5</td>\n",
       "      <td>978156876</td>\n",
       "      <td>Shine (1996)</td>\n",
       "      <td>Drama|Romance</td>\n",
       "    </tr>\n",
       "    <tr>\n",
       "      <th>4</th>\n",
       "      <td>33</td>\n",
       "      <td>M</td>\n",
       "      <td>45</td>\n",
       "      <td>3</td>\n",
       "      <td>55421</td>\n",
       "      <td>1357</td>\n",
       "      <td>4</td>\n",
       "      <td>978109488</td>\n",
       "      <td>Shine (1996)</td>\n",
       "      <td>Drama|Romance</td>\n",
       "    </tr>\n",
       "  </tbody>\n",
       "</table>\n",
       "</div>"
      ],
      "text/plain": [
       "   UserID Gender  Age  Occupation Zip-code  MovieID  Ratings  TimeStamp  \\\n",
       "0       2      M   56          16    70072     1357        5  978298709   \n",
       "1       8      M   25          12    11413     1357        4  978230800   \n",
       "2      10      F   35           1    95370     1357        5  978227625   \n",
       "3      18      F   18           3    95825     1357        5  978156876   \n",
       "4      33      M   45           3    55421     1357        4  978109488   \n",
       "\n",
       "      MovieName       Category  \n",
       "0  Shine (1996)  Drama|Romance  \n",
       "1  Shine (1996)  Drama|Romance  \n",
       "2  Shine (1996)  Drama|Romance  \n",
       "3  Shine (1996)  Drama|Romance  \n",
       "4  Shine (1996)  Drama|Romance  "
      ]
     },
     "execution_count": 11,
     "metadata": {},
     "output_type": "execute_result"
    }
   ],
   "source": [
    "df.head()"
   ]
  },
  {
   "cell_type": "code",
   "execution_count": 12,
   "id": "cefb8de2",
   "metadata": {},
   "outputs": [
    {
     "data": {
      "text/plain": [
       "(998080, 10)"
      ]
     },
     "execution_count": 12,
     "metadata": {},
     "output_type": "execute_result"
    }
   ],
   "source": [
    "df.shape"
   ]
  },
  {
   "cell_type": "code",
   "execution_count": 13,
   "id": "26143bd8",
   "metadata": {},
   "outputs": [
    {
     "data": {
      "text/plain": [
       "UserID        0\n",
       "Gender        0\n",
       "Age           0\n",
       "Occupation    0\n",
       "Zip-code      0\n",
       "MovieID       0\n",
       "Ratings       0\n",
       "TimeStamp     0\n",
       "MovieName     0\n",
       "Category      0\n",
       "dtype: int64"
      ]
     },
     "execution_count": 13,
     "metadata": {},
     "output_type": "execute_result"
    }
   ],
   "source": [
    "df.isnull().sum()"
   ]
  },
  {
   "cell_type": "code",
   "execution_count": 14,
   "id": "d7e76650",
   "metadata": {},
   "outputs": [
    {
     "name": "stdout",
     "output_type": "stream",
     "text": [
      "<class 'pandas.core.frame.DataFrame'>\n",
      "Int64Index: 998080 entries, 0 to 998079\n",
      "Data columns (total 10 columns):\n",
      " #   Column      Non-Null Count   Dtype \n",
      "---  ------      --------------   ----- \n",
      " 0   UserID      998080 non-null  int64 \n",
      " 1   Gender      998080 non-null  object\n",
      " 2   Age         998080 non-null  int64 \n",
      " 3   Occupation  998080 non-null  int64 \n",
      " 4   Zip-code    998080 non-null  object\n",
      " 5   MovieID     998080 non-null  int64 \n",
      " 6   Ratings     998080 non-null  int64 \n",
      " 7   TimeStamp   998080 non-null  int64 \n",
      " 8   MovieName   998080 non-null  object\n",
      " 9   Category    998080 non-null  object\n",
      "dtypes: int64(6), object(4)\n",
      "memory usage: 83.8+ MB\n"
     ]
    }
   ],
   "source": [
    "df.info()"
   ]
  },
  {
   "cell_type": "code",
   "execution_count": 15,
   "id": "3b8b9459",
   "metadata": {},
   "outputs": [
    {
     "data": {
      "text/html": [
       "<div>\n",
       "<style scoped>\n",
       "    .dataframe tbody tr th:only-of-type {\n",
       "        vertical-align: middle;\n",
       "    }\n",
       "\n",
       "    .dataframe tbody tr th {\n",
       "        vertical-align: top;\n",
       "    }\n",
       "\n",
       "    .dataframe thead th {\n",
       "        text-align: right;\n",
       "    }\n",
       "</style>\n",
       "<table border=\"1\" class=\"dataframe\">\n",
       "  <thead>\n",
       "    <tr style=\"text-align: right;\">\n",
       "      <th></th>\n",
       "      <th>UserID</th>\n",
       "      <th>Age</th>\n",
       "      <th>Occupation</th>\n",
       "      <th>MovieID</th>\n",
       "      <th>Ratings</th>\n",
       "      <th>TimeStamp</th>\n",
       "    </tr>\n",
       "  </thead>\n",
       "  <tbody>\n",
       "    <tr>\n",
       "      <th>count</th>\n",
       "      <td>998080.000000</td>\n",
       "      <td>998080.000000</td>\n",
       "      <td>998080.000000</td>\n",
       "      <td>998080.000000</td>\n",
       "      <td>998080.000000</td>\n",
       "      <td>9.980800e+05</td>\n",
       "    </tr>\n",
       "    <tr>\n",
       "      <th>mean</th>\n",
       "      <td>3024.608884</td>\n",
       "      <td>29.744052</td>\n",
       "      <td>8.035970</td>\n",
       "      <td>1869.434325</td>\n",
       "      <td>3.580357</td>\n",
       "      <td>9.722469e+08</td>\n",
       "    </tr>\n",
       "    <tr>\n",
       "      <th>std</th>\n",
       "      <td>1728.273821</td>\n",
       "      <td>11.749987</td>\n",
       "      <td>6.531805</td>\n",
       "      <td>1093.878797</td>\n",
       "      <td>1.117300</td>\n",
       "      <td>1.215794e+07</td>\n",
       "    </tr>\n",
       "    <tr>\n",
       "      <th>min</th>\n",
       "      <td>2.000000</td>\n",
       "      <td>1.000000</td>\n",
       "      <td>0.000000</td>\n",
       "      <td>2.000000</td>\n",
       "      <td>1.000000</td>\n",
       "      <td>9.567039e+08</td>\n",
       "    </tr>\n",
       "    <tr>\n",
       "      <th>25%</th>\n",
       "      <td>1506.000000</td>\n",
       "      <td>25.000000</td>\n",
       "      <td>2.000000</td>\n",
       "      <td>1034.000000</td>\n",
       "      <td>3.000000</td>\n",
       "      <td>9.653027e+08</td>\n",
       "    </tr>\n",
       "    <tr>\n",
       "      <th>50%</th>\n",
       "      <td>3070.000000</td>\n",
       "      <td>25.000000</td>\n",
       "      <td>7.000000</td>\n",
       "      <td>1845.000000</td>\n",
       "      <td>4.000000</td>\n",
       "      <td>9.730190e+08</td>\n",
       "    </tr>\n",
       "    <tr>\n",
       "      <th>75%</th>\n",
       "      <td>4476.000000</td>\n",
       "      <td>35.000000</td>\n",
       "      <td>14.000000</td>\n",
       "      <td>2772.000000</td>\n",
       "      <td>4.000000</td>\n",
       "      <td>9.752211e+08</td>\n",
       "    </tr>\n",
       "    <tr>\n",
       "      <th>max</th>\n",
       "      <td>6040.000000</td>\n",
       "      <td>56.000000</td>\n",
       "      <td>20.000000</td>\n",
       "      <td>3952.000000</td>\n",
       "      <td>5.000000</td>\n",
       "      <td>1.046455e+09</td>\n",
       "    </tr>\n",
       "  </tbody>\n",
       "</table>\n",
       "</div>"
      ],
      "text/plain": [
       "              UserID            Age     Occupation        MovieID  \\\n",
       "count  998080.000000  998080.000000  998080.000000  998080.000000   \n",
       "mean     3024.608884      29.744052       8.035970    1869.434325   \n",
       "std      1728.273821      11.749987       6.531805    1093.878797   \n",
       "min         2.000000       1.000000       0.000000       2.000000   \n",
       "25%      1506.000000      25.000000       2.000000    1034.000000   \n",
       "50%      3070.000000      25.000000       7.000000    1845.000000   \n",
       "75%      4476.000000      35.000000      14.000000    2772.000000   \n",
       "max      6040.000000      56.000000      20.000000    3952.000000   \n",
       "\n",
       "             Ratings     TimeStamp  \n",
       "count  998080.000000  9.980800e+05  \n",
       "mean        3.580357  9.722469e+08  \n",
       "std         1.117300  1.215794e+07  \n",
       "min         1.000000  9.567039e+08  \n",
       "25%         3.000000  9.653027e+08  \n",
       "50%         4.000000  9.730190e+08  \n",
       "75%         4.000000  9.752211e+08  \n",
       "max         5.000000  1.046455e+09  "
      ]
     },
     "execution_count": 15,
     "metadata": {},
     "output_type": "execute_result"
    }
   ],
   "source": [
    "df.describe()"
   ]
  },
  {
   "cell_type": "code",
   "execution_count": 16,
   "id": "3fe5377e",
   "metadata": {},
   "outputs": [
    {
     "data": {
      "text/plain": [
       "UserID          6039\n",
       "Gender             2\n",
       "Age                7\n",
       "Occupation        21\n",
       "Zip-code        3439\n",
       "MovieID         3705\n",
       "Ratings            5\n",
       "TimeStamp     457969\n",
       "MovieName       3705\n",
       "Category         301\n",
       "dtype: int64"
      ]
     },
     "execution_count": 16,
     "metadata": {},
     "output_type": "execute_result"
    }
   ],
   "source": [
    "df.nunique()"
   ]
  },
  {
   "cell_type": "code",
   "execution_count": 17,
   "id": "3cb8da9d",
   "metadata": {},
   "outputs": [],
   "source": [
    "\n",
    "# drop zip-code and timestamps\n",
    "\n",
    "df = df.drop(['Zip-code', 'TimeStamp'], axis= 1)"
   ]
  },
  {
   "cell_type": "code",
   "execution_count": 18,
   "id": "3542d17b",
   "metadata": {},
   "outputs": [
    {
     "data": {
      "text/html": [
       "<div>\n",
       "<style scoped>\n",
       "    .dataframe tbody tr th:only-of-type {\n",
       "        vertical-align: middle;\n",
       "    }\n",
       "\n",
       "    .dataframe tbody tr th {\n",
       "        vertical-align: top;\n",
       "    }\n",
       "\n",
       "    .dataframe thead th {\n",
       "        text-align: right;\n",
       "    }\n",
       "</style>\n",
       "<table border=\"1\" class=\"dataframe\">\n",
       "  <thead>\n",
       "    <tr style=\"text-align: right;\">\n",
       "      <th></th>\n",
       "      <th>UserID</th>\n",
       "      <th>Gender</th>\n",
       "      <th>Age</th>\n",
       "      <th>Occupation</th>\n",
       "      <th>MovieID</th>\n",
       "      <th>Ratings</th>\n",
       "      <th>MovieName</th>\n",
       "      <th>Category</th>\n",
       "    </tr>\n",
       "  </thead>\n",
       "  <tbody>\n",
       "    <tr>\n",
       "      <th>0</th>\n",
       "      <td>2</td>\n",
       "      <td>M</td>\n",
       "      <td>56</td>\n",
       "      <td>16</td>\n",
       "      <td>1357</td>\n",
       "      <td>5</td>\n",
       "      <td>Shine (1996)</td>\n",
       "      <td>Drama|Romance</td>\n",
       "    </tr>\n",
       "    <tr>\n",
       "      <th>1</th>\n",
       "      <td>8</td>\n",
       "      <td>M</td>\n",
       "      <td>25</td>\n",
       "      <td>12</td>\n",
       "      <td>1357</td>\n",
       "      <td>4</td>\n",
       "      <td>Shine (1996)</td>\n",
       "      <td>Drama|Romance</td>\n",
       "    </tr>\n",
       "    <tr>\n",
       "      <th>2</th>\n",
       "      <td>10</td>\n",
       "      <td>F</td>\n",
       "      <td>35</td>\n",
       "      <td>1</td>\n",
       "      <td>1357</td>\n",
       "      <td>5</td>\n",
       "      <td>Shine (1996)</td>\n",
       "      <td>Drama|Romance</td>\n",
       "    </tr>\n",
       "    <tr>\n",
       "      <th>3</th>\n",
       "      <td>18</td>\n",
       "      <td>F</td>\n",
       "      <td>18</td>\n",
       "      <td>3</td>\n",
       "      <td>1357</td>\n",
       "      <td>5</td>\n",
       "      <td>Shine (1996)</td>\n",
       "      <td>Drama|Romance</td>\n",
       "    </tr>\n",
       "    <tr>\n",
       "      <th>4</th>\n",
       "      <td>33</td>\n",
       "      <td>M</td>\n",
       "      <td>45</td>\n",
       "      <td>3</td>\n",
       "      <td>1357</td>\n",
       "      <td>4</td>\n",
       "      <td>Shine (1996)</td>\n",
       "      <td>Drama|Romance</td>\n",
       "    </tr>\n",
       "  </tbody>\n",
       "</table>\n",
       "</div>"
      ],
      "text/plain": [
       "   UserID Gender  Age  Occupation  MovieID  Ratings     MovieName  \\\n",
       "0       2      M   56          16     1357        5  Shine (1996)   \n",
       "1       8      M   25          12     1357        4  Shine (1996)   \n",
       "2      10      F   35           1     1357        5  Shine (1996)   \n",
       "3      18      F   18           3     1357        5  Shine (1996)   \n",
       "4      33      M   45           3     1357        4  Shine (1996)   \n",
       "\n",
       "        Category  \n",
       "0  Drama|Romance  \n",
       "1  Drama|Romance  \n",
       "2  Drama|Romance  \n",
       "3  Drama|Romance  \n",
       "4  Drama|Romance  "
      ]
     },
     "execution_count": 18,
     "metadata": {},
     "output_type": "execute_result"
    }
   ],
   "source": [
    "df.head()"
   ]
  },
  {
   "cell_type": "markdown",
   "id": "4d4a903b",
   "metadata": {},
   "source": [
    "### EXPLORATARY DATA ANALYSIS"
   ]
  },
  {
   "cell_type": "code",
   "execution_count": 19,
   "id": "f6064f15",
   "metadata": {},
   "outputs": [
    {
     "data": {
      "text/plain": [
       "MovieID\n",
       "2858    3428\n",
       "1196    2990\n",
       "260     2990\n",
       "1210    2883\n",
       "480     2672\n",
       "        ... \n",
       "3237       1\n",
       "763        1\n",
       "624        1\n",
       "2563       1\n",
       "3290       1\n",
       "Name: Ratings, Length: 3705, dtype: int64"
      ]
     },
     "execution_count": 19,
     "metadata": {},
     "output_type": "execute_result"
    }
   ],
   "source": [
    "# movie count vs ratings\n",
    "rating_count = df.groupby('MovieID')['Ratings'].count()\n",
    "rating_count.sort_values(ascending=False)"
   ]
  },
  {
   "cell_type": "code",
   "execution_count": 20,
   "id": "b58f736c",
   "metadata": {},
   "outputs": [
    {
     "data": {
      "image/png": "[encoded data removed]",
      "text/plain": [
       "<Figure size 640x480 with 1 Axes>"
      ]
     },
     "metadata": {},
     "output_type": "display_data"
    }
   ],
   "source": [
    "sns.histplot(rating_count, kde=True,color=\"b\")\n",
    "plt.xlabel('Number of ratings')\n",
    "plt.ylabel('number of movies')\n",
    "plt.show()"
   ]
  },
  {
   "cell_type": "code",
   "execution_count": 21,
   "id": "b2cce484",
   "metadata": {},
   "outputs": [
    {
     "data": {
      "image/png": "[encoded data removed]",
      "text/plain": [
       "<Figure size 1200x600 with 1 Axes>"
      ]
     },
     "metadata": {},
     "output_type": "display_data"
    }
   ],
   "source": [
    "# Group by movie MovieName and count 5-star ratings\n",
    "movie_ratings = df[df['Ratings'] == 5].groupby('MovieName')['Ratings'].count().reset_index()\n",
    "\n",
    "# Movies with the highest ratings\n",
    "top_rated_movies = movie_ratings.sort_values(by='Ratings', ascending=False)\n",
    "\n",
    "# bar plot for the top-rated movies\n",
    "plt.figure(figsize=(12, 6))\n",
    "plt.bar(top_rated_movies['MovieName'][:20], top_rated_movies['Ratings'][:20], color='b')\n",
    "plt.xlabel('Movie Name')\n",
    "plt.ylabel('Number of 5-Star Ratings')\n",
    "plt.title('Top-Rated Movies with Many 5-Star Ratings')\n",
    "plt.xticks(rotation=90)  # Rotate x-axis labels for better readability\n",
    "plt.show()"
   ]
  },
  {
   "cell_type": "code",
   "execution_count": 22,
   "id": "f515368f",
   "metadata": {},
   "outputs": [
    {
     "data": {
      "image/png": "[encoded data removed]",
      "text/plain": [
       "<Figure size 1200x600 with 1 Axes>"
      ]
     },
     "metadata": {},
     "output_type": "display_data"
    }
   ],
   "source": [
    "# Group by movie MovieName and count 1-star ratings\n",
    "movie_ratings = df[df['Ratings'] == 1].groupby('MovieName')['Ratings'].count().reset_index()\n",
    "\n",
    "# Movies with the highest ratings\n",
    "top_rated_movies = movie_ratings.sort_values(by='Ratings', ascending=False)\n",
    "\n",
    "# bar plot for the top-rated movies\n",
    "plt.figure(figsize=(12, 6))\n",
    "plt.bar(top_rated_movies['MovieName'][:20], top_rated_movies['Ratings'][:20], color='b')\n",
    "plt.xlabel('Movie name')\n",
    "plt.ylabel('Number of 1-Star Ratings')\n",
    "plt.title('Top-Rated Movies with Many 1-Star Ratings')\n",
    "plt.xticks(rotation=90)  # Rotate x-axis labels for better readability\n",
    "plt.show()\n"
   ]
  },
  {
   "cell_type": "code",
   "execution_count": 23,
   "id": "9b72260e",
   "metadata": {},
   "outputs": [
    {
     "data": {
      "text/plain": [
       "Comedy                       116880\n",
       "Drama                        111411\n",
       "Comedy|Romance                42712\n",
       "Comedy|Drama                  42244\n",
       "Drama|Romance                 29169\n",
       "                              ...  \n",
       "Drama|Romance|Western            29\n",
       "Children's|Fantasy               27\n",
       "Comedy|Film-Noir|Thriller         5\n",
       "Film-Noir|Horror                  2\n",
       "Fantasy                           1\n",
       "Name: Category, Length: 301, dtype: int64"
      ]
     },
     "execution_count": 23,
     "metadata": {},
     "output_type": "execute_result"
    }
   ],
   "source": [
    "df.Category.value_counts()"
   ]
  },
  {
   "cell_type": "code",
   "execution_count": 24,
   "id": "9ab25854",
   "metadata": {},
   "outputs": [
    {
     "data": {
      "text/plain": [
       "Comedy                       116880\n",
       "Drama                        111411\n",
       "Comedy|Romance                42712\n",
       "Comedy|Drama                  42244\n",
       "Drama|Romance                 29169\n",
       "                              ...  \n",
       "Animation|Mystery                41\n",
       "Adventure|Musical|Romance        30\n",
       "Drama|Romance|Western            29\n",
       "Children's|Fantasy               27\n",
       "Fantasy                           1\n",
       "Name: Category, Length: 254, dtype: int64"
      ]
     },
     "execution_count": 24,
     "metadata": {},
     "output_type": "execute_result"
    }
   ],
   "source": [
    "# df = df[~df[df['Category']=='Film-Noir|Horror']]\n",
    "df = df[~df['Category'].str.contains('Film-Noir|Horror')]\n",
    "df.Category.value_counts()"
   ]
  },
  {
   "cell_type": "code",
   "execution_count": 25,
   "id": "e9730a5f",
   "metadata": {},
   "outputs": [
    {
     "data": {
      "text/plain": [
       "Index(['UserID', 'Gender', 'Age', 'Occupation', 'MovieID', 'Ratings',\n",
       "       'MovieName', 'Category'],\n",
       "      dtype='object')"
      ]
     },
     "execution_count": 25,
     "metadata": {},
     "output_type": "execute_result"
    }
   ],
   "source": [
    "df.columns"
   ]
  },
  {
   "cell_type": "markdown",
   "id": "adb3bdfa",
   "metadata": {},
   "source": [
    "### User-Based Collaborative Filtering\n",
    "User-Based Collaborative Filtering (UBCF) is a recommendation technique that provides personalized recommendations \n",
    "to users based on the historical behavior and preferences of other users who are similar to them. UBCF assumes that \n",
    "users who have interacted with items in similar ways (e.g., rated movies similarly) are likely to have similar tastes \n",
    "and can benefit from recommendations made to each other."
   ]
  },
  {
   "cell_type": "code",
   "execution_count": 26,
   "id": "847a8a9b",
   "metadata": {},
   "outputs": [
    {
     "name": "stdout",
     "output_type": "stream",
     "text": [
      "Requirement already satisfied: scikit-surprise in f:\\jupyternotebook\\lib\\site-packages (1.1.1)\n",
      "Requirement already satisfied: joblib>=0.11 in f:\\jupyternotebook\\lib\\site-packages (from scikit-surprise) (1.1.0)\n",
      "Requirement already satisfied: numpy>=1.11.2 in f:\\jupyternotebook\\lib\\site-packages (from scikit-surprise) (1.21.5)\n",
      "Requirement already satisfied: scipy>=1.0.0 in f:\\jupyternotebook\\lib\\site-packages (from scikit-surprise) (1.9.1)\n",
      "Requirement already satisfied: six>=1.10.0 in f:\\jupyternotebook\\lib\\site-packages (from scikit-surprise) (1.16.0)\n"
     ]
    }
   ],
   "source": [
    "!pip install scikit-surprise"
   ]
  },
  {
   "cell_type": "code",
   "execution_count": 27,
   "id": "f606ad59",
   "metadata": {},
   "outputs": [
    {
     "name": "stdout",
     "output_type": "stream",
     "text": [
      "Computing the cosine similarity matrix...\n",
      "Done computing similarity matrix.\n",
      "RMSE: 0.9710\n",
      "RMSE: 0.9710053173930978\n"
     ]
    }
   ],
   "source": [
    "# Import necessary libraries\n",
    "from surprise import Dataset, Reader, KNNBasic\n",
    "from surprise.model_selection import train_test_split\n",
    "from surprise import accuracy\n",
    "\n",
    "# Load data into Surprise Dataset\n",
    "data = df\n",
    "reader = Reader(rating_scale=(1, 5))\n",
    "data = Dataset.load_from_df(data[['UserID', 'MovieName', 'Ratings']], reader)\n",
    "\n",
    "# Split the data into training and testing sets\n",
    "trainset, testset = train_test_split(data, test_size=0.2)\n",
    "\n",
    "# Define the user-based collaborative filtering model\n",
    "sim_options = {\n",
    "    'user_based': True,  # Use user-based collaborative filtering\n",
    "    'name': 'cosine',\n",
    "}\n",
    "model = KNNBasic(sim_options=sim_options)\n",
    "\n",
    "# Fit the model on the training data\n",
    "model.fit(trainset)\n",
    "\n",
    "# Predict ratings on the test set\n",
    "predictions = model.test(testset)\n",
    "\n",
    "# Evaluate the model using RMSE\n",
    "rmse = accuracy.rmse(predictions)\n",
    "print(f\"RMSE: {rmse}\")"
   ]
  },
  {
   "cell_type": "code",
   "execution_count": 28,
   "id": "5469839a",
   "metadata": {},
   "outputs": [
    {
     "data": {
      "text/html": [
       "<div>\n",
       "<style scoped>\n",
       "    .dataframe tbody tr th:only-of-type {\n",
       "        vertical-align: middle;\n",
       "    }\n",
       "\n",
       "    .dataframe tbody tr th {\n",
       "        vertical-align: top;\n",
       "    }\n",
       "\n",
       "    .dataframe thead th {\n",
       "        text-align: right;\n",
       "    }\n",
       "</style>\n",
       "<table border=\"1\" class=\"dataframe\">\n",
       "  <thead>\n",
       "    <tr style=\"text-align: right;\">\n",
       "      <th></th>\n",
       "      <th>UserID</th>\n",
       "      <th>Gender</th>\n",
       "      <th>Age</th>\n",
       "      <th>Occupation</th>\n",
       "      <th>MovieID</th>\n",
       "      <th>Ratings</th>\n",
       "      <th>MovieName</th>\n",
       "      <th>Category</th>\n",
       "    </tr>\n",
       "  </thead>\n",
       "  <tbody>\n",
       "    <tr>\n",
       "      <th>892161</th>\n",
       "      <td>1266</td>\n",
       "      <td>M</td>\n",
       "      <td>25</td>\n",
       "      <td>4</td>\n",
       "      <td>1913</td>\n",
       "      <td>4</td>\n",
       "      <td>Picnic at Hanging Rock (1975)</td>\n",
       "      <td>Drama|Mystery</td>\n",
       "    </tr>\n",
       "    <tr>\n",
       "      <th>109227</th>\n",
       "      <td>5087</td>\n",
       "      <td>F</td>\n",
       "      <td>25</td>\n",
       "      <td>6</td>\n",
       "      <td>920</td>\n",
       "      <td>5</td>\n",
       "      <td>Gone with the Wind (1939)</td>\n",
       "      <td>Drama|Romance|War</td>\n",
       "    </tr>\n",
       "    <tr>\n",
       "      <th>267580</th>\n",
       "      <td>6019</td>\n",
       "      <td>M</td>\n",
       "      <td>25</td>\n",
       "      <td>0</td>\n",
       "      <td>1089</td>\n",
       "      <td>5</td>\n",
       "      <td>Reservoir Dogs (1992)</td>\n",
       "      <td>Crime|Thriller</td>\n",
       "    </tr>\n",
       "  </tbody>\n",
       "</table>\n",
       "</div>"
      ],
      "text/plain": [
       "        UserID Gender  Age  Occupation  MovieID  Ratings  \\\n",
       "892161    1266      M   25           4     1913        4   \n",
       "109227    5087      F   25           6      920        5   \n",
       "267580    6019      M   25           0     1089        5   \n",
       "\n",
       "                            MovieName           Category  \n",
       "892161  Picnic at Hanging Rock (1975)      Drama|Mystery  \n",
       "109227      Gone with the Wind (1939)  Drama|Romance|War  \n",
       "267580          Reservoir Dogs (1992)     Crime|Thriller  "
      ]
     },
     "execution_count": 28,
     "metadata": {},
     "output_type": "execute_result"
    }
   ],
   "source": [
    "df.sample(3)"
   ]
  },
  {
   "cell_type": "code",
   "execution_count": 29,
   "id": "05660453",
   "metadata": {},
   "outputs": [
    {
     "name": "stdout",
     "output_type": "stream",
     "text": [
      "6019\n",
      "Reservoir Dogs \n",
      "Predicted rating for user 6019 and movie Reservoir Dogs : 3.6008235235517776\n"
     ]
    }
   ],
   "source": [
    "# Testing on custom data\n",
    "user_id_to_predict = int(input())  # Replace with a user ID from your dataset\n",
    "movie_name_to_predict = input()  # Replace with a movie name\n",
    "custom_prediction = model.predict(user_id_to_predict, movie_name_to_predict).est\n",
    "print(f\"Predicted rating for user {user_id_to_predict} and movie {movie_name_to_predict}: {custom_prediction}\")\n"
   ]
  },
  {
   "cell_type": "markdown",
   "id": "494fdba2",
   "metadata": {},
   "source": [
    "### Item-Based Collaborative Filtering\n",
    "Item-Based Collaborative Filtering (IBCF) is a recommendation technique that suggests items (e.g., movies) \n",
    "to users based on the similarity of items rather than users. In IBCF, the idea is to recommend items that are \n",
    "similar to the ones the user has interacted with in the past. This method leverages the assumption that users \n",
    "who liked or interacted with one item are likely to appreciate items that are similar to it."
   ]
  },
  {
   "cell_type": "code",
   "execution_count": 30,
   "id": "26e5266d",
   "metadata": {},
   "outputs": [],
   "source": [
    "# Import necessary libraries\n",
    "from surprise import Dataset, Reader, KNNBasic\n",
    "from surprise.model_selection import train_test_split\n",
    "from surprise import accuracy"
   ]
  },
  {
   "cell_type": "code",
   "execution_count": 31,
   "id": "b9b9729f",
   "metadata": {},
   "outputs": [
    {
     "name": "stdout",
     "output_type": "stream",
     "text": [
      "Computing the cosine similarity matrix...\n",
      "Done computing similarity matrix.\n",
      "RMSE: 0.9901\n",
      "RMSE: 0.9900967200129184\n"
     ]
    }
   ],
   "source": [
    "# Load data into Surprise Dataset\n",
    "data = df\n",
    "reader = Reader(rating_scale=(1, 5))\n",
    "data = Dataset.load_from_df(data[['UserID', 'MovieName', 'Ratings']], reader)\n",
    "\n",
    "# Split the data into training and testing sets\n",
    "trainset, testset = train_test_split(data, test_size=0.2)\n",
    "\n",
    "# Define the item-based collaborative filtering model\n",
    "sim_options = {\n",
    "    'user_based': False,  # Use item-based collaborative filtering\n",
    "    'name': 'cosine',\n",
    "}\n",
    "model = KNNBasic(sim_options=sim_options)\n",
    "\n",
    "# Fit the model on the training data\n",
    "model.fit(trainset)\n",
    "\n",
    "# Predict ratings on the test set\n",
    "predictions = model.test(testset)\n",
    "\n",
    "# Evaluate the model using RMSE\n",
    "rmse = accuracy.rmse(predictions)\n",
    "print(f\"RMSE: {rmse}\")"
   ]
  },
  {
   "cell_type": "code",
   "execution_count": 32,
   "id": "73191459",
   "metadata": {},
   "outputs": [
    {
     "data": {
      "text/html": [
       "<div>\n",
       "<style scoped>\n",
       "    .dataframe tbody tr th:only-of-type {\n",
       "        vertical-align: middle;\n",
       "    }\n",
       "\n",
       "    .dataframe tbody tr th {\n",
       "        vertical-align: top;\n",
       "    }\n",
       "\n",
       "    .dataframe thead th {\n",
       "        text-align: right;\n",
       "    }\n",
       "</style>\n",
       "<table border=\"1\" class=\"dataframe\">\n",
       "  <thead>\n",
       "    <tr style=\"text-align: right;\">\n",
       "      <th></th>\n",
       "      <th>UserID</th>\n",
       "      <th>Gender</th>\n",
       "      <th>Age</th>\n",
       "      <th>Occupation</th>\n",
       "      <th>MovieID</th>\n",
       "      <th>Ratings</th>\n",
       "      <th>MovieName</th>\n",
       "      <th>Category</th>\n",
       "    </tr>\n",
       "  </thead>\n",
       "  <tbody>\n",
       "    <tr>\n",
       "      <th>156149</th>\n",
       "      <td>4226</td>\n",
       "      <td>F</td>\n",
       "      <td>35</td>\n",
       "      <td>6</td>\n",
       "      <td>2355</td>\n",
       "      <td>5</td>\n",
       "      <td>Bug's Life, A (1998)</td>\n",
       "      <td>Animation|Children's|Comedy</td>\n",
       "    </tr>\n",
       "    <tr>\n",
       "      <th>375442</th>\n",
       "      <td>588</td>\n",
       "      <td>F</td>\n",
       "      <td>25</td>\n",
       "      <td>11</td>\n",
       "      <td>720</td>\n",
       "      <td>5</td>\n",
       "      <td>Wallace &amp; Gromit: The Best of Aardman Animatio...</td>\n",
       "      <td>Animation</td>\n",
       "    </tr>\n",
       "    <tr>\n",
       "      <th>181205</th>\n",
       "      <td>3005</td>\n",
       "      <td>M</td>\n",
       "      <td>25</td>\n",
       "      <td>17</td>\n",
       "      <td>3702</td>\n",
       "      <td>4</td>\n",
       "      <td>Mad Max (1979)</td>\n",
       "      <td>Action|Sci-Fi</td>\n",
       "    </tr>\n",
       "  </tbody>\n",
       "</table>\n",
       "</div>"
      ],
      "text/plain": [
       "        UserID Gender  Age  Occupation  MovieID  Ratings  \\\n",
       "156149    4226      F   35           6     2355        5   \n",
       "375442     588      F   25          11      720        5   \n",
       "181205    3005      M   25          17     3702        4   \n",
       "\n",
       "                                                MovieName  \\\n",
       "156149                               Bug's Life, A (1998)   \n",
       "375442  Wallace & Gromit: The Best of Aardman Animatio...   \n",
       "181205                                     Mad Max (1979)   \n",
       "\n",
       "                           Category  \n",
       "156149  Animation|Children's|Comedy  \n",
       "375442                    Animation  \n",
       "181205                Action|Sci-Fi  "
      ]
     },
     "execution_count": 32,
     "metadata": {},
     "output_type": "execute_result"
    }
   ],
   "source": [
    "df.sample(3)"
   ]
  },
  {
   "cell_type": "code",
   "execution_count": 33,
   "id": "9652bd38",
   "metadata": {},
   "outputs": [
    {
     "name": "stdout",
     "output_type": "stream",
     "text": [
      "3005\n",
      "mad max\n",
      "Predicted rating for user 3005 and movie mad max: 3.600581392131144\n"
     ]
    }
   ],
   "source": [
    "# Testing on custom data\n",
    "user_id_to_predict = int(input())  # Replace with a user ID from your dataset\n",
    "movie_name_to_predict = input()  # Replace with a movie name\n",
    "custom_prediction = model.predict(user_id_to_predict, movie_name_to_predict).est\n",
    "print(f\"Predicted rating for user {user_id_to_predict} and movie {movie_name_to_predict}: {custom_prediction}\")"
   ]
  },
  {
   "cell_type": "markdown",
   "id": "ef601209",
   "metadata": {},
   "source": [
    "### Matrix Factorization Techniques\n",
    "Matrix Factorization is a class of techniques used in recommendation systems and data analysis that factorizes a matrix \n",
    "into multiple matrices to capture latent features and relationships between data points. Matrix factorization methods \n",
    "are widely used in collaborative filtering-based recommendation systems"
   ]
  },
  {
   "cell_type": "code",
   "execution_count": 34,
   "id": "32ed91b3",
   "metadata": {},
   "outputs": [],
   "source": [
    "# Import necessary libraries\n",
    "from surprise import Dataset, Reader, SVD\n",
    "from surprise.model_selection import train_test_split, GridSearchCV\n",
    "from surprise import accuracy"
   ]
  },
  {
   "cell_type": "code",
   "execution_count": 35,
   "id": "53c7fda1",
   "metadata": {},
   "outputs": [
    {
     "name": "stdout",
     "output_type": "stream",
     "text": [
      "RMSE: 0.8690\n",
      "RMSE: 0.8689925666410769\n"
     ]
    }
   ],
   "source": [
    "# Load data into Surprise Dataset\n",
    "data = df\n",
    "reader = Reader(rating_scale=(1, 5))\n",
    "data = Dataset.load_from_df(data[['UserID', 'MovieName', 'Ratings']], reader)\n",
    "\n",
    "# Split the data into training and testing sets\n",
    "trainset, testset = train_test_split(data, test_size=0.2)\n",
    "\n",
    "# Hyperparameter tuning (example: tuning n_factors)\n",
    "param_grid = {'n_factors': [10, 20, 30]}\n",
    "gs = GridSearchCV(SVD, param_grid, measures=['rmse'], cv=5)\n",
    "gs.fit(data)\n",
    "\n",
    "# Get the best model\n",
    "best_model = gs.best_estimator['rmse']\n",
    "\n",
    "# Train the best model\n",
    "best_model.fit(trainset)\n",
    "\n",
    "# Predict ratings on the test set\n",
    "predictions = best_model.test(testset)\n",
    "\n",
    "# Evaluate the model using RMSE\n",
    "rmse = accuracy.rmse(predictions)\n",
    "print(f\"RMSE: {rmse}\")"
   ]
  },
  {
   "cell_type": "code",
   "execution_count": 36,
   "id": "48c1758d",
   "metadata": {},
   "outputs": [
    {
     "data": {
      "text/html": [
       "<div>\n",
       "<style scoped>\n",
       "    .dataframe tbody tr th:only-of-type {\n",
       "        vertical-align: middle;\n",
       "    }\n",
       "\n",
       "    .dataframe tbody tr th {\n",
       "        vertical-align: top;\n",
       "    }\n",
       "\n",
       "    .dataframe thead th {\n",
       "        text-align: right;\n",
       "    }\n",
       "</style>\n",
       "<table border=\"1\" class=\"dataframe\">\n",
       "  <thead>\n",
       "    <tr style=\"text-align: right;\">\n",
       "      <th></th>\n",
       "      <th>UserID</th>\n",
       "      <th>Gender</th>\n",
       "      <th>Age</th>\n",
       "      <th>Occupation</th>\n",
       "      <th>MovieID</th>\n",
       "      <th>Ratings</th>\n",
       "      <th>MovieName</th>\n",
       "      <th>Category</th>\n",
       "    </tr>\n",
       "  </thead>\n",
       "  <tbody>\n",
       "    <tr>\n",
       "      <th>82249</th>\n",
       "      <td>3464</td>\n",
       "      <td>F</td>\n",
       "      <td>25</td>\n",
       "      <td>14</td>\n",
       "      <td>593</td>\n",
       "      <td>5</td>\n",
       "      <td>Silence of the Lambs, The (1991)</td>\n",
       "      <td>Drama|Thriller</td>\n",
       "    </tr>\n",
       "    <tr>\n",
       "      <th>233454</th>\n",
       "      <td>1980</td>\n",
       "      <td>M</td>\n",
       "      <td>35</td>\n",
       "      <td>7</td>\n",
       "      <td>2291</td>\n",
       "      <td>4</td>\n",
       "      <td>Edward Scissorhands (1990)</td>\n",
       "      <td>Drama|Romance</td>\n",
       "    </tr>\n",
       "    <tr>\n",
       "      <th>189649</th>\n",
       "      <td>3903</td>\n",
       "      <td>M</td>\n",
       "      <td>25</td>\n",
       "      <td>0</td>\n",
       "      <td>1240</td>\n",
       "      <td>5</td>\n",
       "      <td>Terminator, The (1984)</td>\n",
       "      <td>Action|Sci-Fi|Thriller</td>\n",
       "    </tr>\n",
       "  </tbody>\n",
       "</table>\n",
       "</div>"
      ],
      "text/plain": [
       "        UserID Gender  Age  Occupation  MovieID  Ratings  \\\n",
       "82249     3464      F   25          14      593        5   \n",
       "233454    1980      M   35           7     2291        4   \n",
       "189649    3903      M   25           0     1240        5   \n",
       "\n",
       "                               MovieName                Category  \n",
       "82249   Silence of the Lambs, The (1991)          Drama|Thriller  \n",
       "233454        Edward Scissorhands (1990)           Drama|Romance  \n",
       "189649            Terminator, The (1984)  Action|Sci-Fi|Thriller  "
      ]
     },
     "execution_count": 36,
     "metadata": {},
     "output_type": "execute_result"
    }
   ],
   "source": [
    "df.sample(3)"
   ]
  },
  {
   "cell_type": "code",
   "execution_count": 37,
   "id": "6f753503",
   "metadata": {},
   "outputs": [
    {
     "name": "stdout",
     "output_type": "stream",
     "text": [
      "1980\n",
      "Edward Scissorhands\n",
      "Predicted rating for user 1980 and movie Edward Scissorhands: 3.5430046969407907\n"
     ]
    }
   ],
   "source": [
    "# Testing on custom data\n",
    "user_id_to_predict = int(input())  # Replace with a user ID from your dataset\n",
    "movie_name_to_predict = input()  # Replace with a movie name\n",
    "custom_prediction = best_model.predict(user_id_to_predict, movie_name_to_predict).est\n",
    "print(f\"Predicted rating for user {user_id_to_predict} and movie {movie_name_to_predict}: {custom_prediction}\")"
   ]
  },
  {
   "cell_type": "code",
   "execution_count": null,
   "id": "257d5d0e",
   "metadata": {},
   "outputs": [],
   "source": []
  }
 ],
 "metadata": {
  "kernelspec": {
   "display_name": "Python 3 (ipykernel)",
   "language": "python",
   "name": "python3"
  },
  "language_info": {
   "codemirror_mode": {
    "name": "ipython",
    "version": 3
   },
   "file_extension": ".py",
   "mimetype": "text/x-python",
   "name": "python",
   "nbconvert_exporter": "python",
   "pygments_lexer": "ipython3",
   "version": "3.9.13"
  }
 },
 "nbformat": 4,
 "nbformat_minor": 5
}
